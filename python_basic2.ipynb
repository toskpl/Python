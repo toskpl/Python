{
 "cells": [
  {
   "cell_type": "raw",
   "metadata": {},
   "source": [
    "# Napisz funckję is_numeric, która sprawdzi, czy każdy element z przekazanej listy jest typu int lub float. \n",
    "#   Wykorzystaj funcję isinstance()."
   ]
  },
  {
   "cell_type": "code",
   "execution_count": 1,
   "metadata": {},
   "outputs": [
    {
     "name": "stdout",
     "output_type": "stream",
     "text": [
      "False\n",
      "True\n",
      "True\n",
      "False\n"
     ]
    }
   ],
   "source": [
    "def is_numeric(li):\n",
    "    if len (li) == 0:\n",
    "        return False\n",
    "    for i in li:\n",
    "        var = isinstance(i,int) \n",
    "        var2 = isinstance(i,float) \n",
    "# print('var', var)\n",
    "# print('var2',var2)\n",
    "        \n",
    "        if var == False and var2 == False:\n",
    "            temp = False\n",
    "            break\n",
    "        else:\n",
    "            temp = True\n",
    "    return temp\n",
    "        \n",
    "print (is_numeric([1,1,333,\"zzz\"]) )\n",
    "print (is_numeric([1,1,333,4.5]) )\n",
    "print (is_numeric([1,1,333,4.5,1,21,2]) )\n",
    "print (is_numeric([] ))"
   ]
  },
  {
   "cell_type": "raw",
   "metadata": {},
   "source": [
    "#Stwórz klasę Point, która będzie reprezentować punkt w przestrzeni wielowymiarowej :\n",
    "#   Konstruktor ma przyjąc tylko 1 parametr: listę współrzednych. Wykorzystaj funckję z pierwszego zadania, żeby sprawdzić, czy #lista zawiera wyłącznie liczby.\n",
    "#   Napisz metodę add, która pozwoli na dodanie dwóch punktów do siebie i zwróci wynik jako nowy obiekt. Co jeżeli punkty mają #różną liczbę współrzędnych?\n",
    "#   Napisz metodę to_string, która zwróci łancuch znakowy, który w czytelny sposób przedstawi punkt.\n",
    "#   Napisz metodę __len__, która zwróci liczbę współrzędnych punktu. Zobacz, czy możesz teraz wywołać funkcję len na obiekcie #typy punkt.\n",
    "#   Napisz metodę __str__, która bedzie działać dokładnie tak samo jak metoda to_string. Wyświetl obiekt typy Point korzystając #z funkcji print."
   ]
  },
  {
   "cell_type": "code",
   "execution_count": 9,
   "metadata": {},
   "outputs": [
    {
     "name": "stdout",
     "output_type": "stream",
     "text": [
      "[1, 100, 'x']\n",
      "[1, 100, 'x']\n",
      "var True\n",
      "var2 False\n",
      "var True\n",
      "var2 False\n",
      "var False\n",
      "var2 False\n",
      "Cos nie tak\n",
      "[9, 8]\n",
      "[9, 8]\n",
      "3\n",
      "[9, 8]\n",
      "punkty nie maja takiej smamej ilosci wspolrzednych\n",
      "var True\n",
      "var2 False\n",
      "var True\n",
      "var2 False\n",
      "var False\n",
      "var2 False\n",
      "Cos nie tak\n",
      "None\n",
      "[1, 100, 'x']\n",
      "None\n"
     ]
    }
   ],
   "source": [
    "class Point:\n",
    "    def __init__(self,text):\n",
    "            self.text = text\n",
    "            \n",
    "    def add(p1, p2):\n",
    "        print (len(p1.text))\n",
    "        print (p2.text)\n",
    "        len_p1 = len(p1.text)\n",
    "        len_p2 = len(p2.text)\n",
    "        if len_p1 != len_p2:\n",
    "            print(\"punkty nie maja takiej smamej ilosci wspolrzednych\")\n",
    "            return\n",
    "        p3 = list()\n",
    "        for i in range(len_p1):\n",
    "            p3.append(p1.text[i] + p2.text[i])\n",
    "        return Point(p3)\n",
    "    \n",
    "    def to_string(self):\n",
    "        return print(self.text)\n",
    "    \n",
    "    def __str__(self):\n",
    "        return print( \"{0}\".format(self.text))\n",
    "    \n",
    "    def __len__(self):\n",
    "        return len(self.text)\n",
    "    \n",
    "    def introduce(self):\n",
    "        if len (self.text) == 0:\n",
    "               return False\n",
    "        for i in self.text:\n",
    "            var = isinstance(i,int) \n",
    "            var2 = isinstance(i,float) \n",
    "            print('var', var)\n",
    "            print('var2',var2)\n",
    "        \n",
    "            if var == False and var2 == False:\n",
    "                temp = False\n",
    "                break\n",
    "            else:\n",
    "                temp = True\n",
    "        if temp:\n",
    "            return print(self.text)\n",
    "        else:\n",
    "            return print(\"Cos nie tak\")\n",
    "            \n",
    "pointA = Point([1,100,\"x\"])\n",
    "pointB = Point([9,8])\n",
    "pointA.__len__()\n",
    "pointA.to_string()\n",
    "pointA.__str__()\n",
    "pointA.introduce()\n",
    "pointB.to_string()\n",
    "pointB.__str__()\n",
    "pointC = Point.add(pointA,pointB)\n",
    "##pointC.to_string()\n",
    "print (pointA.introduce())\n",
    "print (pointA.to_string())\n",
    "\n"
   ]
  },
  {
   "cell_type": "markdown",
   "metadata": {},
   "source": [
    "#Zainstaluj bibliotekę sqlachemy na komputerze, na którym pracujesz."
   ]
  },
  {
   "cell_type": "code",
   "execution_count": 4,
   "metadata": {},
   "outputs": [],
   "source": [
    "from sqlalchemy import Column, ForeignKey, Integer, String\n",
    "from sqlalchemy.ext.declarative import declarative_base\n",
    "from sqlalchemy.orm import relationship\n",
    "from sqlalchemy import create_engine"
   ]
  },
  {
   "cell_type": "code",
   "execution_count": null,
   "metadata": {},
   "outputs": [],
   "source": [
    "# Korzystając z sqlalchemy stwórz prostą bazę danych, która będzie operować na 3 obiektach. "
   ]
  },
  {
   "cell_type": "code",
   "execution_count": 5,
   "metadata": {},
   "outputs": [
    {
     "ename": "NameError",
     "evalue": "name 'Base' is not defined",
     "output_type": "error",
     "traceback": [
      "\u001b[1;31m---------------------------------------------------------------------------\u001b[0m",
      "\u001b[1;31mNameError\u001b[0m                                 Traceback (most recent call last)",
      "\u001b[1;32m<ipython-input-5-78b757219aab>\u001b[0m in \u001b[0;36m<module>\u001b[1;34m()\u001b[0m\n\u001b[1;32m----> 1\u001b[1;33m \u001b[1;32mclass\u001b[0m \u001b[0mPerson\u001b[0m\u001b[1;33m(\u001b[0m\u001b[0mBase\u001b[0m\u001b[1;33m)\u001b[0m\u001b[1;33m:\u001b[0m\u001b[1;33m\u001b[0m\u001b[0m\n\u001b[0m\u001b[0;32m      2\u001b[0m     \u001b[0m__tablename__\u001b[0m \u001b[1;33m=\u001b[0m \u001b[1;34m'person'\u001b[0m\u001b[1;33m\u001b[0m\u001b[0m\n\u001b[0;32m      3\u001b[0m \u001b[1;33m\u001b[0m\u001b[0m\n\u001b[0;32m      4\u001b[0m     \u001b[0mid\u001b[0m \u001b[1;33m=\u001b[0m \u001b[0mColumn\u001b[0m\u001b[1;33m(\u001b[0m\u001b[0mInteger\u001b[0m\u001b[1;33m,\u001b[0m \u001b[0mprimary_key\u001b[0m\u001b[1;33m=\u001b[0m\u001b[1;32mTrue\u001b[0m\u001b[1;33m)\u001b[0m\u001b[1;33m\u001b[0m\u001b[0m\n\u001b[0;32m      5\u001b[0m     \u001b[0mname\u001b[0m \u001b[1;33m=\u001b[0m \u001b[0mColumn\u001b[0m\u001b[1;33m(\u001b[0m\u001b[0mString\u001b[0m\u001b[1;33m(\u001b[0m\u001b[1;36m250\u001b[0m\u001b[1;33m)\u001b[0m\u001b[1;33m,\u001b[0m \u001b[0mnullable\u001b[0m\u001b[1;33m=\u001b[0m\u001b[1;32mFalse\u001b[0m\u001b[1;33m)\u001b[0m\u001b[1;33m\u001b[0m\u001b[0m\n",
      "\u001b[1;31mNameError\u001b[0m: name 'Base' is not defined"
     ]
    }
   ],
   "source": [
    "class Person(Base):\n",
    "    __tablename__ = 'person'\n",
    "    \n",
    "    id = Column(Integer, primary_key=True)\n",
    "    name = Column(String(250), nullable=False)\n",
    "    \n",
    "class Address(Base):\n",
    "    __tablename__ = 'address'\n",
    "\n",
    "    id = Column(Integer, primary_key=True)\n",
    "    street_name = Column(String(250))\n",
    "    street_number = Column(String(250))\n",
    "    post_code = Column(String(250), nullable=False)\n",
    "    person_id = Column(Integer, ForeignKey('person.id'))\n",
    "    person = relationship(Person)\n",
    "\n",
    "class Cars(Base):\n",
    "    __tablename__ = 'cars'\n",
    "\n",
    "    id = Column(Integer, primary_key=True)\n",
    "    model = Column(String(250))\n",
    "    mark = Column(String(250))\n",
    "    person_id = Column(Integer, ForeignKey('person.id'))\n",
    "    address_id = Column(Integer, ForeignKey('address.id'))\n",
    "    person = relationship(Person)\n",
    "    addres = relationship(Address)\n",
    "    \n",
    "engine = create_engine('sqlite:///sqlalchemy_example.db')\n",
    "Base.metadata.create_all(engine)\n",
    "\n",
    "from sqlalchemy.orm import sessionmaker\n",
    "\n",
    "engine = create_engine('sqlite:///sqlalchemy_example.db')\n",
    "DBSession = sessionmaker(bind=engine)\n",
    "\n",
    "session = DBSession()\n",
    " \n",
    "new_person = Person(name='new person')\n",
    "session.add(new_person)\n",
    "session.commit()\n",
    " \n",
    "new_address = Address(post_code='00000', person=new_person)\n",
    "session.add(new_address)\n",
    "session.commit()\n",
    "\n",
    "new_cars = Cars(model='cabrio',mark='polonez', person=new_person,addres=new_address)\n",
    "session.add(new_cars)\n",
    "session.commit()\n",
    "\n",
    "session = DBSession()\n",
    "print(session.query(Person).all())\n",
    "\n",
    "person = session.query(Person).first()\n",
    "\n",
    "session.query(Address).filter(Address.person == person).one().post_code\n",
    "             \n",
    "session.query(Cars).filter(Cars.person == person).one().mark"
   ]
  }
 ],
 "metadata": {
  "kernelspec": {
   "display_name": "Python 3",
   "language": "python",
   "name": "python3"
  },
  "language_info": {
   "codemirror_mode": {
    "name": "ipython",
    "version": 3
   },
   "file_extension": ".py",
   "mimetype": "text/x-python",
   "name": "python",
   "nbconvert_exporter": "python",
   "pygments_lexer": "ipython3",
   "version": "3.6.4"
  }
 },
 "nbformat": 4,
 "nbformat_minor": 2
}
