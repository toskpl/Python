{
 "cells": [
  {
   "cell_type": "raw",
   "metadata": {},
   "source": [
    "# Proste operacje Python"
   ]
  },
  {
   "cell_type": "code",
   "execution_count": 1,
   "metadata": {},
   "outputs": [],
   "source": [
    "## Napisz funkcję even_elements zwracającą listę, która zawiera tylko elementy z list o parzystych indeksach.\n",
    "\n",
    "\n",
    "def even_elements(x):\n",
    "    return x[::2]\n",
    "    "
   ]
  },
  {
   "cell_type": "code",
   "execution_count": 2,
   "metadata": {},
   "outputs": [
    {
     "name": "stdout",
     "output_type": "stream",
     "text": [
      "True\n",
      "True\n",
      "True\n"
     ]
    }
   ],
   "source": [
    "print(even_elements([1, 2, 3, 4, 5, 6]) == [1, 3, 5])\n",
    "print(even_elements([]) == [])\n",
    "print(even_elements([41]) == [41])"
   ]
  },
  {
   "cell_type": "code",
   "execution_count": null,
   "metadata": {},
   "outputs": [],
   "source": [
    "# Napisz funkcję days_in_year zwracającą liczbę dni w roku (365 albo 366). \n",
    "#[Pomoc](http://www.algorytm.org/przetwarzanie-dat/wyznaczanie-lat-przestepnych.html)"
   ]
  },
  {
   "cell_type": "code",
   "execution_count": 3,
   "metadata": {},
   "outputs": [],
   "source": [
    "def days_in_year(year):\n",
    "    if (year % 4) == 0 and (year % 100) != 0:\n",
    "        print (\"przestępnym\")\n",
    "        return 366\n",
    "    elif (year % 400) == 0:\n",
    "        print(\"przestępnym\")\n",
    "        return 366\n",
    "    else:\n",
    "        print(\"NIE przestępnym\")\n",
    "        return 365"
   ]
  },
  {
   "cell_type": "code",
   "execution_count": 4,
   "metadata": {},
   "outputs": [
    {
     "name": "stdout",
     "output_type": "stream",
     "text": [
      "NIE przestępnym\n",
      "True\n",
      "przestępnym\n",
      "True\n",
      "NIE przestępnym\n",
      "True\n",
      "przestępnym\n",
      "True\n",
      "NIE przestępnym\n",
      "True\n"
     ]
    }
   ],
   "source": [
    "print(days_in_year(2015) == 365)\n",
    "print(days_in_year(2012) == 366)\n",
    "print(days_in_year(1900) == 365)\n",
    "print(days_in_year(2400) == 366)\n",
    "print(days_in_year(1977) == 365)"
   ]
  },
  {
   "cell_type": "code",
   "execution_count": null,
   "metadata": {},
   "outputs": [],
   "source": [
    "#Napisz funkcje oov(text, vocab), która zwraca listę wyrazów (bez duplikatów), które występują w tekście text i nie występują w liście znanych wyrazów vocab. Argumenty funkcji text i vocab to odpowiednio łańcuch znakowy i lista łańuchów znakowych. Wszystkie wyrazy należy zmienić na małe litery. (OOV = out of vocabulary) (W pythonie istnieje struktura danych jak set, która przechowuje elementy bez powtórzeń.)"
   ]
  },
  {
   "cell_type": "code",
   "execution_count": 8,
   "metadata": {},
   "outputs": [],
   "source": [
    "def oov(text, vocab):\n",
    "    text = text.lower()\n",
    "    text_temp = text.split(\" \")\n",
    "    vocab_temp = \"\"\n",
    "    for i in vocab:\n",
    "        vocab_temp = vocab_temp + (i.lower()) + \" \"\n",
    "    output = set(text_temp) - set(vocab_temp.split(\" \"))\n",
    "    return list(output)"
   ]
  },
  {
   "cell_type": "code",
   "execution_count": 9,
   "metadata": {},
   "outputs": [
    {
     "name": "stdout",
     "output_type": "stream",
     "text": [
      "True\n"
     ]
    }
   ],
   "source": [
    "text   = \"This is a string , which I will use for string testing\"\n",
    "vocab  = [',', 'this', 'is', 'a', 'which', 'for', 'will', 'I']\n",
    "oo_voc = ['string', 'testing', 'use']\n",
    "print(set(oov(text, vocab)) == set(oo_voc))"
   ]
  },
  {
   "cell_type": "code",
   "execution_count": null,
   "metadata": {},
   "outputs": [],
   "source": [
    "# Napisz funkcję sum_from_one_to_n zwracającą sume liczb od 1 do n. \n",
    "#Jeśli podany argument jest mniejszy od 1 powinna być zwracana wartość 0."
   ]
  },
  {
   "cell_type": "code",
   "execution_count": 12,
   "metadata": {},
   "outputs": [],
   "source": [
    "def sum_from_one_to_n(x):\n",
    "    if x < 1:\n",
    "        return 0\n",
    "    else:\n",
    "        sum = 0\n",
    "        for i in range(x):\n",
    "             sum = sum + i\n",
    "        return sum + x"
   ]
  },
  {
   "cell_type": "code",
   "execution_count": 11,
   "metadata": {},
   "outputs": [
    {
     "name": "stdout",
     "output_type": "stream",
     "text": [
      "True\n",
      "True\n"
     ]
    }
   ],
   "source": [
    "print(sum_from_one_to_n(999) == 499500)\n",
    "print(sum_from_one_to_n(-100) == 0)"
   ]
  },
  {
   "cell_type": "code",
   "execution_count": null,
   "metadata": {},
   "outputs": [],
   "source": [
    "# Napisz funkcję euclidean_distance obliczającą odległość między dwoma punktami przestrzeni trójwymiarowej. \n",
    "# Punkty są dane jako trzyelementowe krotki liczb zmiennoprzecinkowych."
   ]
  },
  {
   "cell_type": "code",
   "execution_count": 13,
   "metadata": {},
   "outputs": [],
   "source": [
    "from math import sqrt\n",
    "def euclidean_distance(x, y):\n",
    "    dis = sqrt ((x[0] - y[0]) ** 2 + (x[1] - y[1]) ** 2 + (x[2] - y[2]) ** 2)\n",
    "    print (dis)\n",
    "    return dis"
   ]
  },
  {
   "cell_type": "code",
   "execution_count": 14,
   "metadata": {},
   "outputs": [
    {
     "name": "stdout",
     "output_type": "stream",
     "text": [
      "4.2\n",
      "True\n"
     ]
    }
   ],
   "source": [
    "print(euclidean_distance((2.3, 4.3, -7.5), (2.3, 8.5, -7.5)) == 4.2)"
   ]
  },
  {
   "cell_type": "code",
   "execution_count": null,
   "metadata": {},
   "outputs": [],
   "source": [
    "# Napisz funkcję big_no zwracającej tzw. \"Big 'NO!'\" (zob. http://tvtropes.org/pmwiki/pmwiki.php/Main/BigNo) \n",
    "# dla zadanej liczby tj. napis typu \"NOOOOOOOOOOOOO!\", gdzie liczba 'O' ma być równa podanemu argumentem, \n",
    "# przy czym jeśli argument jest mniejszy niż 5, ma być zwracany napis \"It's not a Big 'No!'\"."
   ]
  },
  {
   "cell_type": "code",
   "execution_count": 15,
   "metadata": {},
   "outputs": [],
   "source": [
    "def big_no(x):\n",
    "    if x < 4:\n",
    "        return \"It's not a Big 'No!'\"\n",
    "    else:\n",
    "        temp_ = \"OOOOO\"\n",
    "        for i in range(5,x):\n",
    "            temp_ = temp_ + \"O\"\n",
    "        return \"N\" + temp_ +\"!\""
   ]
  },
  {
   "cell_type": "code",
   "execution_count": 16,
   "metadata": {},
   "outputs": [
    {
     "name": "stdout",
     "output_type": "stream",
     "text": [
      "True\n",
      "True\n",
      "True\n"
     ]
    }
   ],
   "source": [
    "print(big_no(5) == \"NOOOOO!\")\n",
    "print(big_no(6) == \"NOOOOOO!\")\n",
    "print(big_no(2) == \"It's not a Big 'No!'\")"
   ]
  },
  {
   "cell_type": "code",
   "execution_count": 17,
   "metadata": {},
   "outputs": [],
   "source": [
    "# Napisz funkcję char_sum, która dla zadanego łańcucha zwraca sumę kodów ASCII znaków."
   ]
  },
  {
   "cell_type": "code",
   "execution_count": 18,
   "metadata": {},
   "outputs": [],
   "source": [
    "def char_sum (text):\n",
    "    sum  = 0\n",
    "    for i in list(text):\n",
    "        sum = sum + ord(i)\n",
    "    return sum"
   ]
  },
  {
   "cell_type": "code",
   "execution_count": 19,
   "metadata": {},
   "outputs": [
    {
     "name": "stdout",
     "output_type": "stream",
     "text": [
      "True\n",
      "True\n"
     ]
    }
   ],
   "source": [
    "print(char_sum(\"this is a string\") == 1516)\n",
    "print(char_sum(\"this is another string\") == 2172)"
   ]
  },
  {
   "cell_type": "code",
   "execution_count": null,
   "metadata": {},
   "outputs": [],
   "source": [
    "# Napisz funkcję sum_div35(n), która zwraca sumę wszystkich liczb podzielnych przez 3 lub 5 mniejszych niż n."
   ]
  },
  {
   "cell_type": "code",
   "execution_count": 20,
   "metadata": {},
   "outputs": [],
   "source": [
    "def sum_div35(x):\n",
    "    sum_35 = 0\n",
    "    for i in range(x):\n",
    "        if i % 3 == 0:\n",
    "            sum_35 = sum_35 + i\n",
    "        elif i % 5 == 0:\n",
    "            sum_35 = sum_35 + i\n",
    "#    print(sum_5 + sum_3)\n",
    "    return (sum_35 )"
   ]
  },
  {
   "cell_type": "code",
   "execution_count": 21,
   "metadata": {},
   "outputs": [
    {
     "name": "stdout",
     "output_type": "stream",
     "text": [
      "True\n",
      "True\n",
      "True\n"
     ]
    }
   ],
   "source": [
    "print(sum_div35(9) == 14)\n",
    "print(sum_div35(100) == 2318)\n",
    "print(sum_div35(3845) == 3446403)"
   ]
  },
  {
   "cell_type": "code",
   "execution_count": null,
   "metadata": {},
   "outputs": [],
   "source": [
    "# Napisz funkcję leet_speak, która podmienia w podanym napisie niektóre litery na podobnie wyglądające cyfry: \n",
    "#'e' na '3', \n",
    "#'l' na '1', \n",
    "#'o' na '0', \n",
    "#'t' na '7'. \n",
    "#Np. leet('leet') powinno zwrócić '1337'."
   ]
  },
  {
   "cell_type": "code",
   "execution_count": 22,
   "metadata": {},
   "outputs": [],
   "source": [
    "def leet_speak(x):\n",
    "    y = x.replace(\"e\",\"3\")\n",
    "    y = y.replace(\"l\",\"1\")\n",
    "    y = y.replace(\"o\",\"0\")\n",
    "    y = y.replace(\"t\",\"7\")\n",
    "    print (y)\n",
    "    return y"
   ]
  },
  {
   "cell_type": "code",
   "execution_count": 23,
   "metadata": {},
   "outputs": [
    {
     "name": "stdout",
     "output_type": "stream",
     "text": [
      "1337\n",
      "True\n",
      "d0 n07 wan7\n",
      "True\n"
     ]
    }
   ],
   "source": [
    "print(leet_speak('leet') == '1337')\n",
    "print(leet_speak('do not want') == 'd0 n07 wan7')"
   ]
  },
  {
   "cell_type": "code",
   "execution_count": null,
   "metadata": {},
   "outputs": [],
   "source": [
    "# Napisz funkcję pokemon_speak, która zamienia w podanym napisie co drugą literę na wielką.\n",
    "# Np. pokemon_speak('pokemon') powinno zwrócić 'PoKeMoN'."
   ]
  },
  {
   "cell_type": "code",
   "execution_count": 24,
   "metadata": {},
   "outputs": [],
   "source": [
    "def pokemon_speak(text):\n",
    "    var = ''\n",
    "#    print (text)\n",
    "    i = 0\n",
    "    for j in (text):\n",
    "        if i % 2 == 0:\n",
    "            var = var + j.upper()\n",
    "        else:\n",
    "            var = var + j\n",
    "        i = i+1\n",
    "    return var"
   ]
  },
  {
   "cell_type": "code",
   "execution_count": 25,
   "metadata": {},
   "outputs": [
    {
     "name": "stdout",
     "output_type": "stream",
     "text": [
      "True\n",
      "True\n",
      "True\n"
     ]
    }
   ],
   "source": [
    "print(pokemon_speak('pokemon') == 'PoKeMoN')\n",
    "print((pokemon_speak('do not want') == 'Do nOt wAnT'))\n",
    "print(pokemon_speak('POKEMON') == 'POKEMON')"
   ]
  },
  {
   "cell_type": "code",
   "execution_count": null,
   "metadata": {},
   "outputs": [],
   "source": [
    "# Napisz funkcję common_chars(string1, string2), która zwraca alfabetycznie uporządkowaną listę \n",
    "#wspólnych znaków z lańcuchów string1 i string2."
   ]
  },
  {
   "cell_type": "code",
   "execution_count": 26,
   "metadata": {},
   "outputs": [],
   "source": [
    "def common_chars(a,b):\n",
    "    c = set(a).intersection(set(b))\n",
    "    d = list(c)\n",
    "    d.sort(key=str.lower)\n",
    "    return d"
   ]
  },
  {
   "cell_type": "code",
   "execution_count": 27,
   "metadata": {},
   "outputs": [
    {
     "name": "stdout",
     "output_type": "stream",
     "text": [
      "True\n"
     ]
    }
   ],
   "source": [
    "print(common_chars(\"this is a string\", \"Ala ma kota\") == [' ', 'a', 't'])"
   ]
  }
 ],
 "metadata": {
  "kernelspec": {
   "display_name": "Python 3",
   "language": "python",
   "name": "python3"
  },
  "language_info": {
   "codemirror_mode": {
    "name": "ipython",
    "version": 3
   },
   "file_extension": ".py",
   "mimetype": "text/x-python",
   "name": "python",
   "nbconvert_exporter": "python",
   "pygments_lexer": "ipython3",
   "version": "3.6.4"
  }
 },
 "nbformat": 4,
 "nbformat_minor": 2
}
