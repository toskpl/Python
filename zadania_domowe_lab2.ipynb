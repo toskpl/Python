
# coding: utf-8

# ## Zadania na ćwiczenia

# **Zad 1.** Otwórz notebook, który był pokazany na zajęciach. Zobacz, czy wszystko zrozumiałeś. Spróbuj pozmnieniać zawartości komórek.
# 

# Zad 2.** Napisz funkcję even_elements zwracającą listę, która zawiera tylko elementy z list o parzystych indeksach.

# In[3]:

def even_elements(x):
    return x[::2]
    


# In[4]:

print(even_elements([1, 2, 3, 4, 5, 6]) == [1, 3, 5])
print(even_elements([]) == [])
print(even_elements([41]) == [41])


# **Zad 3.** Napisz funkcję days_in_year zwracającą liczbę dni w roku (365 albo 366). [Pomoc](http://www.algorytm.org/przetwarzanie-dat/wyznaczanie-lat-przestepnych.html)

# In[14]:

def days_in_year(year):
    if (year % 4) == 0 and (year % 100) != 0:
        print ("przestępnym")
        return 366
    elif (year % 400) == 0:
        print("przestępnym")
        return 366
    else:
        print("NIE przestępnym")
        return 365


# In[15]:

print(days_in_year(2015) == 365)
print(days_in_year(2012) == 366)
print(days_in_year(1900) == 365)
print(days_in_year(2400) == 366)
print(days_in_year(1977) == 365)


# **Zad 4.** Napisz funkcje oov(text, vocab), która zwraca listę wyrazów (bez duplikatów), które występują w tekście text i nie występują w liście znanych wyrazów vocab. Argumenty funkcji text i vocab to odpowiednio łańcuch znakowy i lista łańuchów znakowych. Wszystkie wyrazy należy zmienić na małe litery. (OOV = out of vocabulary) (W pythonie istnieje struktura danych jak set, która przechowuje elementy bez powtórzeń.)

# In[50]:

def oov(text, vocab):
    text = text.lower()
    text_temp = text.split(" ")
    vocab_temp = ""
    for i in vocab:
	       vocab_temp = vocab_temp + (i.lower()) + " "
    output = set(text_temp) - set(vocab_temp.split(" "))
    return list(output)





# In[51]:

text   = "This is a string , which I will use for string testing"
vocab  = [',', 'this', 'is', 'a', 'which', 'for', 'will', 'I']
oo_voc = ['string', 'testing', 'use']
print(set(oov(text, vocab)) == set(oo_voc))


# In[ ]:




# **Zad 5.** Napisz funkcję sum_from_one_to_n zwracającą sume liczb od 1 do n. Jeśli podany argument jest mniejszy od 1 powinna być zwracana wartość 0.

# In[38]:

def sum_from_one_to_n(x):
    if x < 0:
        return 0
    else:
        sum = 0
        for i in range(x):
             sum = sum + i
        return sum + x


# In[39]:

print(sum_from_one_to_n(999) == 499500)
print(sum_from_one_to_n(-100) == 0)


# **Zad 6.** Napisz funkcję euclidean_distance obliczającą odległość między dwoma punktami przestrzeni trójwymiarowej. Punkty są dane jako trzyelementowe krotki liczb zmiennoprzecinkowych.

# In[103]:
from math import sqrt
def euclidean_distance(x, y):
    dis = sqrt ((x[0] - y[0]) ** 2 + (x[1] - y[1]) ** 2 + (x[2] - y[2]) ** 2)
    print (dis)
    return dis


print(euclidean_distance((2.3, 4.3, -7.5), (2.3, 8.5, -7.5)) == 4.2)


# **Zad 7.** Napisz funkcję big_no zwracającej tzw. "Big 'NO!'" (zob. http://tvtropes.org/pmwiki/pmwiki.php/Main/BigNo) dla zadanej liczby tj. napis typu "NOOOOOOOOOOOOO!", gdzie liczba 'O' ma być równa podanemu argumentem, przy czym jeśli argument jest mniejszy niż 5, ma być zwracany napis "It's not a Big 'No!'".

# In[126]:

def big_no(x):
    if x < 4:
        return "It's not a Big 'No!'"
    else:
        temp_ = "OOOOO"
        for i in range(5,x):
            temp_ = temp_ + "O"
        return "N" + temp_ +"!"


# In[127]:

print(big_no(5) == "NOOOOO!")
print(big_no(6) == "NOOOOOO!")
print(big_no(2) == "It's not a Big 'No!'")


# **Zad. 8** Napisz funkcję char_sum, która dla zadanego łańcucha zwraca sumę kodów ASCII znaków.
# 

# In[130]:

def char_sum (text):
    sum  = 0
    for i in list(text):
        sum = sum + ord(i)
    return sum
    


# In[131]:

print(char_sum("this is a string") == 1516)
print(char_sum("this is another string") == 2172)


# **Zad. 9** Napisz funkcję sum_div35(n), która zwraca sumę wszystkich liczb podzielnych przez 3 lub 5 mniejszych niż n.

# In[163]:

def sum_div35(x):
    sum_35 = 0
    for i in range(x):
        if i % 3 == 0:
            sum_35 = sum_35 + i
        elif i % 5 == 0:
            sum_35 = sum_35 + i
#    print(sum_5 + sum_3)
    return (sum_35 )


# In[164]:

print(sum_div35(9) == 14)
print(sum_div35(100) == 2318)
print(sum_div35(3845) == 3446403)


# **Zad. 10** Napisz funkcję leet_speak, która podmienia w podanym napisie niektóre litery na podobnie wyglądające cyfry: 'e' na '3', 'l' na '1', 'o' na '0', 't' na '7'. Np. leet('leet') powinno zwrócić '1337'.

# In[189]:

def leet_speak(x):
    y = x.replace("e","3")
    y = y.replace("l","1")
    y = y.replace("o","0")
    y = y.replace("t","7")
    print (y)
    return y


# In[194]:

print(leet_speak('leet') == '1337')
print(leet_speak('do not want') == 'd0 n07 wan7')


# **Zad. 11** Napisz funkcję pokemon_speak, która zamienia w podanym napisie co drugą literę na wielką. Np. pokemon_speak('pokemon') powinno zwrócić 'PoKeMoN'.

# In[ ]:




# In[ ]:
    
def pokemon_speak(text):
    var = ''
#    print (text)
    i = 0
    for j in (text):
        if i % 2 == 0:
           var = var + j.upper()
        else:
            var = var + j
        i = i+1
    return var

print(pokemon_speak('pokemon') == 'PoKeMoN')
print((pokemon_speak('do not want') == 'Do nOt wAnT'))
print(pokemon_speak('POKEMON') == 'POKEMON')


# **Zad. 12** Napisz funkcję common_chars(string1, string2), która zwraca alfabetycznie uporządkowaną listę wspólnych znaków z lańcuchów string1 i string2.
# 

# In[ ]:

def common_chars(a,b):
    c = set(a).intersection(set(b))
    d = list(c)
    d.sort(key=str.lower)
    return d



# In[ ]:

print(common_chars("this is a string", "Ala ma kota") == [' ', 'a', 't'])

